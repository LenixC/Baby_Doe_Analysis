{
 "cells": [
  {
   "cell_type": "markdown",
   "metadata": {},
   "source": [
    "# On the Baby Doe Law and an Attempted Ammendment\n",
    "## Lenix Carter"
   ]
  },
  {
   "cell_type": "markdown",
   "metadata": {},
   "source": [
    "Occasionally, a curiosity fills you with such excitement that you stay up until four in the morning chasing it. You pour over a sudden passion project with fervor and excitement, trying to learn all of the details. In my raw curiosity to learn, data science, I found myself diving into Congressional voting records from 1984. I was skimming through the UC Irvine data sets when, for some reason, I landed upon this one."
   ]
  },
  {
   "cell_type": "markdown",
   "metadata": {},
   "source": [
    "It is worth noting (just in advance of my import statements) that this is my first time using pandas and the first time in quite a while using pylab."
   ]
  },
  {
   "cell_type": "code",
   "execution_count": 1,
   "metadata": {},
   "outputs": [],
   "source": [
    "import pandas as pd\n",
    "import pylab as plt"
   ]
  },
  {
   "cell_type": "markdown",
   "metadata": {},
   "source": [
    "We begin by defining each of the issues as described in a seperate file. The files originally were of the form 'el-salvador-aid'; however, I chose to space seperate the issues as I find it easier to read."
   ]
  },
  {
   "cell_type": "code",
   "execution_count": 2,
   "metadata": {},
   "outputs": [],
   "source": [
    "issues = ['affiliation', 'handicapped infants', 'water project cost sharing', \n",
    "           'physician fee freeze', 'el salvador aid', 'religious groups in schools', \n",
    "           'anti satellite test ban', 'aid to nicaraguan contras', 'mx missile', \n",
    "           'immigration', 'synfuels comporation cutback', 'education spending', \n",
    "           'superfund right to sue', 'crime', 'duty free exports', \n",
    "           'export administration act south africa']"
   ]
  },
  {
   "cell_type": "markdown",
   "metadata": {},
   "source": [
    "Next, we read in the voting records from a comma-seperated file. Many interesting topics were up for debate in this year. Consider the depressingly titled \"handicapped infants\" and the now somewhat ironic \"aid to nicaraguan contras.\"\n",
    "\n",
    "We then list the head and tail of the file to get a general sense of the shape of the data.\n",
    "\n",
    "Across our columns we have the affiliations and then issues of the year.\n",
    "\n",
    "Across our rows we have voters 0-434."
   ]
  },
  {
   "cell_type": "code",
   "execution_count": 3,
   "metadata": {},
   "outputs": [
    {
     "data": {
      "text/html": [
       "<div>\n",
       "<style scoped>\n",
       "    .dataframe tbody tr th:only-of-type {\n",
       "        vertical-align: middle;\n",
       "    }\n",
       "\n",
       "    .dataframe tbody tr th {\n",
       "        vertical-align: top;\n",
       "    }\n",
       "\n",
       "    .dataframe thead th {\n",
       "        text-align: right;\n",
       "    }\n",
       "</style>\n",
       "<table border=\"1\" class=\"dataframe\">\n",
       "  <thead>\n",
       "    <tr style=\"text-align: right;\">\n",
       "      <th></th>\n",
       "      <th>affiliation</th>\n",
       "      <th>handicapped infants</th>\n",
       "      <th>water project cost sharing</th>\n",
       "      <th>physician fee freeze</th>\n",
       "      <th>el salvador aid</th>\n",
       "      <th>religious groups in schools</th>\n",
       "      <th>anti satellite test ban</th>\n",
       "      <th>aid to nicaraguan contras</th>\n",
       "      <th>mx missile</th>\n",
       "      <th>immigration</th>\n",
       "      <th>synfuels comporation cutback</th>\n",
       "      <th>education spending</th>\n",
       "      <th>superfund right to sue</th>\n",
       "      <th>crime</th>\n",
       "      <th>duty free exports</th>\n",
       "      <th>export administration act south africa</th>\n",
       "    </tr>\n",
       "  </thead>\n",
       "  <tbody>\n",
       "    <tr>\n",
       "      <th>0</th>\n",
       "      <td>republican</td>\n",
       "      <td>n</td>\n",
       "      <td>y</td>\n",
       "      <td>n</td>\n",
       "      <td>y</td>\n",
       "      <td>y</td>\n",
       "      <td>y</td>\n",
       "      <td>n</td>\n",
       "      <td>n</td>\n",
       "      <td>n</td>\n",
       "      <td>y</td>\n",
       "      <td>?</td>\n",
       "      <td>y</td>\n",
       "      <td>y</td>\n",
       "      <td>y</td>\n",
       "      <td>n</td>\n",
       "    </tr>\n",
       "    <tr>\n",
       "      <th>1</th>\n",
       "      <td>republican</td>\n",
       "      <td>n</td>\n",
       "      <td>y</td>\n",
       "      <td>n</td>\n",
       "      <td>y</td>\n",
       "      <td>y</td>\n",
       "      <td>y</td>\n",
       "      <td>n</td>\n",
       "      <td>n</td>\n",
       "      <td>n</td>\n",
       "      <td>n</td>\n",
       "      <td>n</td>\n",
       "      <td>y</td>\n",
       "      <td>y</td>\n",
       "      <td>y</td>\n",
       "      <td>n</td>\n",
       "    </tr>\n",
       "    <tr>\n",
       "      <th>2</th>\n",
       "      <td>democrat</td>\n",
       "      <td>?</td>\n",
       "      <td>y</td>\n",
       "      <td>y</td>\n",
       "      <td>?</td>\n",
       "      <td>y</td>\n",
       "      <td>y</td>\n",
       "      <td>n</td>\n",
       "      <td>n</td>\n",
       "      <td>n</td>\n",
       "      <td>n</td>\n",
       "      <td>y</td>\n",
       "      <td>n</td>\n",
       "      <td>y</td>\n",
       "      <td>y</td>\n",
       "      <td>n</td>\n",
       "    </tr>\n",
       "    <tr>\n",
       "      <th>3</th>\n",
       "      <td>democrat</td>\n",
       "      <td>n</td>\n",
       "      <td>y</td>\n",
       "      <td>y</td>\n",
       "      <td>n</td>\n",
       "      <td>?</td>\n",
       "      <td>y</td>\n",
       "      <td>n</td>\n",
       "      <td>n</td>\n",
       "      <td>n</td>\n",
       "      <td>n</td>\n",
       "      <td>y</td>\n",
       "      <td>n</td>\n",
       "      <td>y</td>\n",
       "      <td>n</td>\n",
       "      <td>n</td>\n",
       "    </tr>\n",
       "    <tr>\n",
       "      <th>4</th>\n",
       "      <td>democrat</td>\n",
       "      <td>y</td>\n",
       "      <td>y</td>\n",
       "      <td>y</td>\n",
       "      <td>n</td>\n",
       "      <td>y</td>\n",
       "      <td>y</td>\n",
       "      <td>n</td>\n",
       "      <td>n</td>\n",
       "      <td>n</td>\n",
       "      <td>n</td>\n",
       "      <td>y</td>\n",
       "      <td>?</td>\n",
       "      <td>y</td>\n",
       "      <td>y</td>\n",
       "      <td>y</td>\n",
       "    </tr>\n",
       "  </tbody>\n",
       "</table>\n",
       "</div>"
      ],
      "text/plain": [
       "  affiliation handicapped infants water project cost sharing  \\\n",
       "0  republican                   n                          y   \n",
       "1  republican                   n                          y   \n",
       "2    democrat                   ?                          y   \n",
       "3    democrat                   n                          y   \n",
       "4    democrat                   y                          y   \n",
       "\n",
       "  physician fee freeze el salvador aid religious groups in schools  \\\n",
       "0                    n               y                           y   \n",
       "1                    n               y                           y   \n",
       "2                    y               ?                           y   \n",
       "3                    y               n                           ?   \n",
       "4                    y               n                           y   \n",
       "\n",
       "  anti satellite test ban aid to nicaraguan contras mx missile immigration  \\\n",
       "0                       y                         n          n           n   \n",
       "1                       y                         n          n           n   \n",
       "2                       y                         n          n           n   \n",
       "3                       y                         n          n           n   \n",
       "4                       y                         n          n           n   \n",
       "\n",
       "  synfuels comporation cutback education spending superfund right to sue  \\\n",
       "0                            y                  ?                      y   \n",
       "1                            n                  n                      y   \n",
       "2                            n                  y                      n   \n",
       "3                            n                  y                      n   \n",
       "4                            n                  y                      ?   \n",
       "\n",
       "  crime duty free exports export administration act south africa  \n",
       "0     y                 y                                      n  \n",
       "1     y                 y                                      n  \n",
       "2     y                 y                                      n  \n",
       "3     y                 n                                      n  \n",
       "4     y                 y                                      y  "
      ]
     },
     "execution_count": 3,
     "metadata": {},
     "output_type": "execute_result"
    }
   ],
   "source": [
    "vote_table = pd.read_csv('house-votes-84.data', sep=\",\", header = None, names = issues, index_col = False)\n",
    "vote_table.head()"
   ]
  },
  {
   "cell_type": "code",
   "execution_count": 4,
   "metadata": {},
   "outputs": [
    {
     "data": {
      "text/html": [
       "<div>\n",
       "<style scoped>\n",
       "    .dataframe tbody tr th:only-of-type {\n",
       "        vertical-align: middle;\n",
       "    }\n",
       "\n",
       "    .dataframe tbody tr th {\n",
       "        vertical-align: top;\n",
       "    }\n",
       "\n",
       "    .dataframe thead th {\n",
       "        text-align: right;\n",
       "    }\n",
       "</style>\n",
       "<table border=\"1\" class=\"dataframe\">\n",
       "  <thead>\n",
       "    <tr style=\"text-align: right;\">\n",
       "      <th></th>\n",
       "      <th>affiliation</th>\n",
       "      <th>handicapped infants</th>\n",
       "      <th>water project cost sharing</th>\n",
       "      <th>physician fee freeze</th>\n",
       "      <th>el salvador aid</th>\n",
       "      <th>religious groups in schools</th>\n",
       "      <th>anti satellite test ban</th>\n",
       "      <th>aid to nicaraguan contras</th>\n",
       "      <th>mx missile</th>\n",
       "      <th>immigration</th>\n",
       "      <th>synfuels comporation cutback</th>\n",
       "      <th>education spending</th>\n",
       "      <th>superfund right to sue</th>\n",
       "      <th>crime</th>\n",
       "      <th>duty free exports</th>\n",
       "      <th>export administration act south africa</th>\n",
       "    </tr>\n",
       "  </thead>\n",
       "  <tbody>\n",
       "    <tr>\n",
       "      <th>430</th>\n",
       "      <td>republican</td>\n",
       "      <td>n</td>\n",
       "      <td>n</td>\n",
       "      <td>y</td>\n",
       "      <td>y</td>\n",
       "      <td>y</td>\n",
       "      <td>y</td>\n",
       "      <td>n</td>\n",
       "      <td>n</td>\n",
       "      <td>y</td>\n",
       "      <td>y</td>\n",
       "      <td>n</td>\n",
       "      <td>y</td>\n",
       "      <td>y</td>\n",
       "      <td>y</td>\n",
       "      <td>n</td>\n",
       "    </tr>\n",
       "    <tr>\n",
       "      <th>431</th>\n",
       "      <td>democrat</td>\n",
       "      <td>n</td>\n",
       "      <td>n</td>\n",
       "      <td>y</td>\n",
       "      <td>n</td>\n",
       "      <td>n</td>\n",
       "      <td>n</td>\n",
       "      <td>y</td>\n",
       "      <td>y</td>\n",
       "      <td>y</td>\n",
       "      <td>y</td>\n",
       "      <td>n</td>\n",
       "      <td>n</td>\n",
       "      <td>n</td>\n",
       "      <td>n</td>\n",
       "      <td>n</td>\n",
       "    </tr>\n",
       "    <tr>\n",
       "      <th>432</th>\n",
       "      <td>republican</td>\n",
       "      <td>n</td>\n",
       "      <td>?</td>\n",
       "      <td>n</td>\n",
       "      <td>y</td>\n",
       "      <td>y</td>\n",
       "      <td>y</td>\n",
       "      <td>n</td>\n",
       "      <td>n</td>\n",
       "      <td>n</td>\n",
       "      <td>n</td>\n",
       "      <td>y</td>\n",
       "      <td>y</td>\n",
       "      <td>y</td>\n",
       "      <td>y</td>\n",
       "      <td>n</td>\n",
       "    </tr>\n",
       "    <tr>\n",
       "      <th>433</th>\n",
       "      <td>republican</td>\n",
       "      <td>n</td>\n",
       "      <td>n</td>\n",
       "      <td>n</td>\n",
       "      <td>y</td>\n",
       "      <td>y</td>\n",
       "      <td>y</td>\n",
       "      <td>?</td>\n",
       "      <td>?</td>\n",
       "      <td>?</td>\n",
       "      <td>?</td>\n",
       "      <td>n</td>\n",
       "      <td>y</td>\n",
       "      <td>y</td>\n",
       "      <td>y</td>\n",
       "      <td>n</td>\n",
       "    </tr>\n",
       "    <tr>\n",
       "      <th>434</th>\n",
       "      <td>republican</td>\n",
       "      <td>n</td>\n",
       "      <td>y</td>\n",
       "      <td>n</td>\n",
       "      <td>y</td>\n",
       "      <td>y</td>\n",
       "      <td>y</td>\n",
       "      <td>n</td>\n",
       "      <td>n</td>\n",
       "      <td>n</td>\n",
       "      <td>y</td>\n",
       "      <td>n</td>\n",
       "      <td>y</td>\n",
       "      <td>y</td>\n",
       "      <td>y</td>\n",
       "      <td>?</td>\n",
       "    </tr>\n",
       "  </tbody>\n",
       "</table>\n",
       "</div>"
      ],
      "text/plain": [
       "    affiliation handicapped infants water project cost sharing  \\\n",
       "430  republican                   n                          n   \n",
       "431    democrat                   n                          n   \n",
       "432  republican                   n                          ?   \n",
       "433  republican                   n                          n   \n",
       "434  republican                   n                          y   \n",
       "\n",
       "    physician fee freeze el salvador aid religious groups in schools  \\\n",
       "430                    y               y                           y   \n",
       "431                    y               n                           n   \n",
       "432                    n               y                           y   \n",
       "433                    n               y                           y   \n",
       "434                    n               y                           y   \n",
       "\n",
       "    anti satellite test ban aid to nicaraguan contras mx missile immigration  \\\n",
       "430                       y                         n          n           y   \n",
       "431                       n                         y          y           y   \n",
       "432                       y                         n          n           n   \n",
       "433                       y                         ?          ?           ?   \n",
       "434                       y                         n          n           n   \n",
       "\n",
       "    synfuels comporation cutback education spending superfund right to sue  \\\n",
       "430                            y                  n                      y   \n",
       "431                            y                  n                      n   \n",
       "432                            n                  y                      y   \n",
       "433                            ?                  n                      y   \n",
       "434                            y                  n                      y   \n",
       "\n",
       "    crime duty free exports export administration act south africa  \n",
       "430     y                 y                                      n  \n",
       "431     n                 n                                      n  \n",
       "432     y                 y                                      n  \n",
       "433     y                 y                                      n  \n",
       "434     y                 y                                      ?  "
      ]
     },
     "execution_count": 4,
     "metadata": {},
     "output_type": "execute_result"
    }
   ],
   "source": [
    "vote_table.tail()"
   ]
  },
  {
   "cell_type": "markdown",
   "metadata": {},
   "source": [
    "Next for posterity, we use `describe()` on the DataFrame. From this we can gleam many things quickly (e.g. every issue had a neither yes nor no vote, democrats were the house majority that year.) \n",
    "\n",
    "Most notable for this research is that \"handicapped infants\" failed to pass. "
   ]
  },
  {
   "cell_type": "code",
   "execution_count": 5,
   "metadata": {},
   "outputs": [
    {
     "data": {
      "text/html": [
       "<div>\n",
       "<style scoped>\n",
       "    .dataframe tbody tr th:only-of-type {\n",
       "        vertical-align: middle;\n",
       "    }\n",
       "\n",
       "    .dataframe tbody tr th {\n",
       "        vertical-align: top;\n",
       "    }\n",
       "\n",
       "    .dataframe thead th {\n",
       "        text-align: right;\n",
       "    }\n",
       "</style>\n",
       "<table border=\"1\" class=\"dataframe\">\n",
       "  <thead>\n",
       "    <tr style=\"text-align: right;\">\n",
       "      <th></th>\n",
       "      <th>affiliation</th>\n",
       "      <th>handicapped infants</th>\n",
       "      <th>water project cost sharing</th>\n",
       "      <th>physician fee freeze</th>\n",
       "      <th>el salvador aid</th>\n",
       "      <th>religious groups in schools</th>\n",
       "      <th>anti satellite test ban</th>\n",
       "      <th>aid to nicaraguan contras</th>\n",
       "      <th>mx missile</th>\n",
       "      <th>immigration</th>\n",
       "      <th>synfuels comporation cutback</th>\n",
       "      <th>education spending</th>\n",
       "      <th>superfund right to sue</th>\n",
       "      <th>crime</th>\n",
       "      <th>duty free exports</th>\n",
       "      <th>export administration act south africa</th>\n",
       "    </tr>\n",
       "  </thead>\n",
       "  <tbody>\n",
       "    <tr>\n",
       "      <th>count</th>\n",
       "      <td>435</td>\n",
       "      <td>435</td>\n",
       "      <td>435</td>\n",
       "      <td>435</td>\n",
       "      <td>435</td>\n",
       "      <td>435</td>\n",
       "      <td>435</td>\n",
       "      <td>435</td>\n",
       "      <td>435</td>\n",
       "      <td>435</td>\n",
       "      <td>435</td>\n",
       "      <td>435</td>\n",
       "      <td>435</td>\n",
       "      <td>435</td>\n",
       "      <td>435</td>\n",
       "      <td>435</td>\n",
       "    </tr>\n",
       "    <tr>\n",
       "      <th>unique</th>\n",
       "      <td>2</td>\n",
       "      <td>3</td>\n",
       "      <td>3</td>\n",
       "      <td>3</td>\n",
       "      <td>3</td>\n",
       "      <td>3</td>\n",
       "      <td>3</td>\n",
       "      <td>3</td>\n",
       "      <td>3</td>\n",
       "      <td>3</td>\n",
       "      <td>3</td>\n",
       "      <td>3</td>\n",
       "      <td>3</td>\n",
       "      <td>3</td>\n",
       "      <td>3</td>\n",
       "      <td>3</td>\n",
       "    </tr>\n",
       "    <tr>\n",
       "      <th>top</th>\n",
       "      <td>democrat</td>\n",
       "      <td>n</td>\n",
       "      <td>y</td>\n",
       "      <td>y</td>\n",
       "      <td>n</td>\n",
       "      <td>y</td>\n",
       "      <td>y</td>\n",
       "      <td>y</td>\n",
       "      <td>y</td>\n",
       "      <td>y</td>\n",
       "      <td>y</td>\n",
       "      <td>n</td>\n",
       "      <td>n</td>\n",
       "      <td>y</td>\n",
       "      <td>y</td>\n",
       "      <td>n</td>\n",
       "    </tr>\n",
       "    <tr>\n",
       "      <th>freq</th>\n",
       "      <td>267</td>\n",
       "      <td>236</td>\n",
       "      <td>195</td>\n",
       "      <td>253</td>\n",
       "      <td>247</td>\n",
       "      <td>212</td>\n",
       "      <td>272</td>\n",
       "      <td>239</td>\n",
       "      <td>242</td>\n",
       "      <td>207</td>\n",
       "      <td>216</td>\n",
       "      <td>264</td>\n",
       "      <td>233</td>\n",
       "      <td>209</td>\n",
       "      <td>248</td>\n",
       "      <td>233</td>\n",
       "    </tr>\n",
       "  </tbody>\n",
       "</table>\n",
       "</div>"
      ],
      "text/plain": [
       "       affiliation handicapped infants water project cost sharing  \\\n",
       "count          435                 435                        435   \n",
       "unique           2                   3                          3   \n",
       "top       democrat                   n                          y   \n",
       "freq           267                 236                        195   \n",
       "\n",
       "       physician fee freeze el salvador aid religious groups in schools  \\\n",
       "count                   435             435                         435   \n",
       "unique                    3               3                           3   \n",
       "top                       y               n                           y   \n",
       "freq                    253             247                         212   \n",
       "\n",
       "       anti satellite test ban aid to nicaraguan contras mx missile  \\\n",
       "count                      435                       435        435   \n",
       "unique                       3                         3          3   \n",
       "top                          y                         y          y   \n",
       "freq                       272                       239        242   \n",
       "\n",
       "       immigration synfuels comporation cutback education spending  \\\n",
       "count          435                          435                435   \n",
       "unique           3                            3                  3   \n",
       "top              y                            y                  n   \n",
       "freq           207                          216                264   \n",
       "\n",
       "       superfund right to sue crime duty free exports  \\\n",
       "count                     435   435               435   \n",
       "unique                      3     3                 3   \n",
       "top                         n     y                 y   \n",
       "freq                      233   209               248   \n",
       "\n",
       "       export administration act south africa  \n",
       "count                                     435  \n",
       "unique                                      3  \n",
       "top                                         n  \n",
       "freq                                      233  "
      ]
     },
     "execution_count": 5,
     "metadata": {},
     "output_type": "execute_result"
    }
   ],
   "source": [
    "vote_table.describe()"
   ]
  },
  {
   "cell_type": "markdown",
   "metadata": {},
   "source": [
    "We narrow our focus to simply affiliation and the votes on handicapped infants. "
   ]
  },
  {
   "cell_type": "code",
   "execution_count": 6,
   "metadata": {},
   "outputs": [
    {
     "data": {
      "text/html": [
       "<div>\n",
       "<style scoped>\n",
       "    .dataframe tbody tr th:only-of-type {\n",
       "        vertical-align: middle;\n",
       "    }\n",
       "\n",
       "    .dataframe tbody tr th {\n",
       "        vertical-align: top;\n",
       "    }\n",
       "\n",
       "    .dataframe thead th {\n",
       "        text-align: right;\n",
       "    }\n",
       "</style>\n",
       "<table border=\"1\" class=\"dataframe\">\n",
       "  <thead>\n",
       "    <tr style=\"text-align: right;\">\n",
       "      <th></th>\n",
       "      <th>affiliation</th>\n",
       "      <th>handicapped infants</th>\n",
       "    </tr>\n",
       "  </thead>\n",
       "  <tbody>\n",
       "    <tr>\n",
       "      <th>0</th>\n",
       "      <td>republican</td>\n",
       "      <td>n</td>\n",
       "    </tr>\n",
       "    <tr>\n",
       "      <th>1</th>\n",
       "      <td>republican</td>\n",
       "      <td>n</td>\n",
       "    </tr>\n",
       "    <tr>\n",
       "      <th>2</th>\n",
       "      <td>democrat</td>\n",
       "      <td>?</td>\n",
       "    </tr>\n",
       "    <tr>\n",
       "      <th>3</th>\n",
       "      <td>democrat</td>\n",
       "      <td>n</td>\n",
       "    </tr>\n",
       "    <tr>\n",
       "      <th>4</th>\n",
       "      <td>democrat</td>\n",
       "      <td>y</td>\n",
       "    </tr>\n",
       "  </tbody>\n",
       "</table>\n",
       "</div>"
      ],
      "text/plain": [
       "  affiliation handicapped infants\n",
       "0  republican                   n\n",
       "1  republican                   n\n",
       "2    democrat                   ?\n",
       "3    democrat                   n\n",
       "4    democrat                   y"
      ]
     },
     "execution_count": 6,
     "metadata": {},
     "output_type": "execute_result"
    }
   ],
   "source": [
    "doe_vote = vote_table.loc[0:, ['affiliation', 'handicapped infants']]\n",
    "doe_vote.head()"
   ]
  },
  {
   "cell_type": "markdown",
   "metadata": {},
   "source": [
    "If you notice, I have since named the table containing only the affiliation and votes on handicapped infants `doe_vote`. The law that handicapped infants is referring to is referred to as Baby Doe Law. The case refers to two major cases where a baby with a disability was denied a life-saving or life-prolonging surgery. The law pushed to add \"witholding of treatment\" of such a baby as \"medical neglect.\"[<sup>[1]</sup>](https://en.wikipedia.org/wiki/Baby_Doe_Law)\n",
    "\n",
    "Further research shows, that this law does eventually pass[<sup>[2]</sup>](https://ajph.aphapublications.org/doi/pdf/10.2105/AJPH.74.7.727). \n",
    "\n",
    "In the hyperspecificity in our legal system, the ammendment discussed herein attempt to rein back control of the HHS to more supervisory roles.[<sup>[3]</sup>](https://www.congress.gov/amendment/98th-congress/house-amendment/579?q={\"search\"%3A[\"Infants\"]}&r=4&s=7) "
   ]
  },
  {
   "cell_type": "code",
   "execution_count": 7,
   "metadata": {},
   "outputs": [
    {
     "data": {
      "text/html": [
       "<div>\n",
       "<style scoped>\n",
       "    .dataframe tbody tr th:only-of-type {\n",
       "        vertical-align: middle;\n",
       "    }\n",
       "\n",
       "    .dataframe tbody tr th {\n",
       "        vertical-align: top;\n",
       "    }\n",
       "\n",
       "    .dataframe thead th {\n",
       "        text-align: right;\n",
       "    }\n",
       "</style>\n",
       "<table border=\"1\" class=\"dataframe\">\n",
       "  <thead>\n",
       "    <tr style=\"text-align: right;\">\n",
       "      <th></th>\n",
       "      <th>affiliation</th>\n",
       "      <th>handicapped infants</th>\n",
       "    </tr>\n",
       "  </thead>\n",
       "  <tbody>\n",
       "    <tr>\n",
       "      <th>count</th>\n",
       "      <td>435</td>\n",
       "      <td>435</td>\n",
       "    </tr>\n",
       "    <tr>\n",
       "      <th>unique</th>\n",
       "      <td>2</td>\n",
       "      <td>3</td>\n",
       "    </tr>\n",
       "    <tr>\n",
       "      <th>top</th>\n",
       "      <td>democrat</td>\n",
       "      <td>n</td>\n",
       "    </tr>\n",
       "    <tr>\n",
       "      <th>freq</th>\n",
       "      <td>267</td>\n",
       "      <td>236</td>\n",
       "    </tr>\n",
       "  </tbody>\n",
       "</table>\n",
       "</div>"
      ],
      "text/plain": [
       "       affiliation handicapped infants\n",
       "count          435                 435\n",
       "unique           2                   3\n",
       "top       democrat                   n\n",
       "freq           267                 236"
      ]
     },
     "execution_count": 7,
     "metadata": {},
     "output_type": "execute_result"
    }
   ],
   "source": [
    "doe_vote.describe()"
   ]
  },
  {
   "cell_type": "markdown",
   "metadata": {},
   "source": [
    "##### Forming a Hypothesis\n",
    "\n",
    "We make a few assumptions here. Firstly, republicans tend to be more \"right-to-life\" than democrats. Secondly, this is seen as a \"right-to-life\" issue. As such, with our data we expect to see a higher degree of repbulicans voting against this law.\n",
    "\n",
    "We examine the overall voting record by plotting it on a bar graph."
   ]
  },
  {
   "cell_type": "code",
   "execution_count": 8,
   "metadata": {},
   "outputs": [
    {
     "data": {
      "text/plain": [
       "<matplotlib.axes._subplots.AxesSubplot at 0x2ae6a9c3608>"
      ]
     },
     "execution_count": 8,
     "metadata": {},
     "output_type": "execute_result"
    },
    {
     "data": {
      "image/png": "[encoded data removed]",
      "text/plain": [
       "<Figure size 432x288 with 1 Axes>"
      ]
     },
     "metadata": {
      "needs_background": "light"
     },
     "output_type": "display_data"
    }
   ],
   "source": [
    "fig_dims=(2, 2)\n",
    "plt.subplot2grid(fig_dims, (1, 0))\n",
    "doe_vote['handicapped infants'].value_counts().plot(kind=\"bar\",\n",
    "                                                    title=\"Voting on Baby Doe Laws\",\n",
    "                                                    color=\"#499bff\")"
   ]
  },
  {
   "cell_type": "markdown",
   "metadata": {},
   "source": [
    "Next, we compare affiliation to votes using `.crosstab()`."
   ]
  },
  {
   "cell_type": "code",
   "execution_count": 9,
   "metadata": {},
   "outputs": [
    {
     "data": {
      "text/html": [
       "<div>\n",
       "<style scoped>\n",
       "    .dataframe tbody tr th:only-of-type {\n",
       "        vertical-align: middle;\n",
       "    }\n",
       "\n",
       "    .dataframe tbody tr th {\n",
       "        vertical-align: top;\n",
       "    }\n",
       "\n",
       "    .dataframe thead th {\n",
       "        text-align: right;\n",
       "    }\n",
       "</style>\n",
       "<table border=\"1\" class=\"dataframe\">\n",
       "  <thead>\n",
       "    <tr style=\"text-align: right;\">\n",
       "      <th>handicapped infants</th>\n",
       "      <th>?</th>\n",
       "      <th>n</th>\n",
       "      <th>y</th>\n",
       "    </tr>\n",
       "    <tr>\n",
       "      <th>affiliation</th>\n",
       "      <th></th>\n",
       "      <th></th>\n",
       "      <th></th>\n",
       "    </tr>\n",
       "  </thead>\n",
       "  <tbody>\n",
       "    <tr>\n",
       "      <th>democrat</th>\n",
       "      <td>9</td>\n",
       "      <td>102</td>\n",
       "      <td>156</td>\n",
       "    </tr>\n",
       "    <tr>\n",
       "      <th>republican</th>\n",
       "      <td>3</td>\n",
       "      <td>134</td>\n",
       "      <td>31</td>\n",
       "    </tr>\n",
       "  </tbody>\n",
       "</table>\n",
       "</div>"
      ],
      "text/plain": [
       "handicapped infants  ?    n    y\n",
       "affiliation                     \n",
       "democrat             9  102  156\n",
       "republican           3  134   31"
      ]
     },
     "execution_count": 9,
     "metadata": {},
     "output_type": "execute_result"
    }
   ],
   "source": [
    "vote_affil = pd.crosstab(doe_vote['affiliation'], doe_vote['handicapped infants'])\n",
    "vote_affil"
   ]
  },
  {
   "cell_type": "markdown",
   "metadata": {},
   "source": [
    "We normalize the values. "
   ]
  },
  {
   "cell_type": "code",
   "execution_count": 10,
   "metadata": {},
   "outputs": [],
   "source": [
    "percent_vote = vote_affil.div(vote_affil.sum(1).astype(float), axis=0)"
   ]
  },
  {
   "cell_type": "markdown",
   "metadata": {},
   "source": [
    "We graph them. "
   ]
  },
  {
   "cell_type": "code",
   "execution_count": 11,
   "metadata": {},
   "outputs": [
    {
     "data": {
      "text/plain": [
       "Text(0, 0.5, 'Percent Vote')"
      ]
     },
     "execution_count": 11,
     "metadata": {},
     "output_type": "execute_result"
    },
    {
     "data": {
      "image/png": "[encoded data removed]",
      "text/plain": [
       "<Figure size 432x288 with 1 Axes>"
      ]
     },
     "metadata": {
      "needs_background": "light"
     },
     "output_type": "display_data"
    }
   ],
   "source": [
    "colors = [\"#ffea49\", \"#ff4970\", \"#499bff\"]\n",
    "\n",
    "percent_vote.plot(kind='bar',\n",
    "                  stacked=False,\n",
    "                  title='Vote by Affiliation: Baby Doe Law',\n",
    "                  color=colors)\n",
    "plt.xlabel('Voter Affiliation')\n",
    "plt.ylabel('Percent Vote')"
   ]
  },
  {
   "cell_type": "markdown",
   "metadata": {},
   "source": [
    "As expected, we can visually tell that republicans voted nay with a much higher frequency than democrats. \n",
    "\n",
    "Let's explore this relationship further. \n",
    "\n",
    "We can now examine what percentages of votes belonged to either affiliation."
   ]
  },
  {
   "cell_type": "code",
   "execution_count": 12,
   "metadata": {},
   "outputs": [
    {
     "data": {
      "text/html": [
       "<div>\n",
       "<style scoped>\n",
       "    .dataframe tbody tr th:only-of-type {\n",
       "        vertical-align: middle;\n",
       "    }\n",
       "\n",
       "    .dataframe tbody tr th {\n",
       "        vertical-align: top;\n",
       "    }\n",
       "\n",
       "    .dataframe thead th {\n",
       "        text-align: right;\n",
       "    }\n",
       "</style>\n",
       "<table border=\"1\" class=\"dataframe\">\n",
       "  <thead>\n",
       "    <tr style=\"text-align: right;\">\n",
       "      <th>handicapped infants</th>\n",
       "      <th>?</th>\n",
       "      <th>n</th>\n",
       "      <th>y</th>\n",
       "    </tr>\n",
       "    <tr>\n",
       "      <th>affiliation</th>\n",
       "      <th></th>\n",
       "      <th></th>\n",
       "      <th></th>\n",
       "    </tr>\n",
       "  </thead>\n",
       "  <tbody>\n",
       "    <tr>\n",
       "      <th>democrat</th>\n",
       "      <td>0.75</td>\n",
       "      <td>0.432203</td>\n",
       "      <td>0.834225</td>\n",
       "    </tr>\n",
       "    <tr>\n",
       "      <th>republican</th>\n",
       "      <td>0.25</td>\n",
       "      <td>0.567797</td>\n",
       "      <td>0.165775</td>\n",
       "    </tr>\n",
       "  </tbody>\n",
       "</table>\n",
       "</div>"
      ],
      "text/plain": [
       "handicapped infants     ?         n         y\n",
       "affiliation                                  \n",
       "democrat             0.75  0.432203  0.834225\n",
       "republican           0.25  0.567797  0.165775"
      ]
     },
     "execution_count": 12,
     "metadata": {},
     "output_type": "execute_result"
    }
   ],
   "source": [
    "affil_makeup = vote_affil.div(vote_affil.sum(0).astype(float), axis=1)\n",
    "affil_makeup"
   ]
  },
  {
   "cell_type": "code",
   "execution_count": 13,
   "metadata": {},
   "outputs": [
    {
     "data": {
      "text/plain": [
       "Text(0, 0.5, 'Percent Vote')"
      ]
     },
     "execution_count": 13,
     "metadata": {},
     "output_type": "execute_result"
    },
    {
     "data": {
      "image/png": "[encoded data removed]",
      "text/plain": [
       "<Figure size 432x288 with 1 Axes>"
      ]
     },
     "metadata": {
      "needs_background": "light"
     },
     "output_type": "display_data"
    }
   ],
   "source": [
    "colors = [\"#ffea49\", \"#ff4970\", \"#499bff\"]\n",
    "\n",
    "affil_makeup.plot(kind='bar',\n",
    "                  stacked=False,\n",
    "                  title='Percentages of votes',\n",
    "                  color=colors)\n",
    "plt.xlabel('Voter Affiliation')\n",
    "plt.ylabel('Percent Vote')"
   ]
  },
  {
   "cell_type": "markdown",
   "metadata": {},
   "source": [
    "Here we see that democrats made up a severe majority of yeas, but a slight minority of nays. This follows our hypothesis.\n",
    "\n",
    "---\n",
    "\n",
    "##### A Conclusion of sorts\n",
    "This data is not particularly meaningful, except for the fact that there was a lot to learn by analyzing it. Through this, I have become more confident with statistical relationships as well as Pandas and Matplotlib. This is intended to be an ongoing project as the laws discussed herein are actually quite fascinating. I'm not sure how much more I may do with the statistical analysis of this, but it is nonetheless interesting."
   ]
  }
 ],
 "metadata": {
  "kernelspec": {
   "display_name": "Python 3",
   "language": "python",
   "name": "python3"
  },
  "language_info": {
   "codemirror_mode": {
    "name": "ipython",
    "version": 3
   },
   "file_extension": ".py",
   "mimetype": "text/x-python",
   "name": "python",
   "nbconvert_exporter": "python",
   "pygments_lexer": "ipython3",
   "version": "3.7.6"
  }
 },
 "nbformat": 4,
 "nbformat_minor": 4
}
